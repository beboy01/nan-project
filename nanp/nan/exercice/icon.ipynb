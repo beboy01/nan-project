{
 "cells": [
  {
   "cell_type": "code",
   "execution_count": 1,
   "metadata": {},
   "outputs": [
    {
     "ename": "SyntaxError",
     "evalue": "invalid syntax (<ipython-input-1-c1b8da84ffde>, line 18)",
     "output_type": "error",
     "traceback": [
      "\u001b[1;36m  File \u001b[1;32m\"<ipython-input-1-c1b8da84ffde>\"\u001b[1;36m, line \u001b[1;32m18\u001b[0m\n\u001b[1;33m    from Math import.math.*                                                                               ()\u001b[0m\n\u001b[1;37m                    ^\u001b[0m\n\u001b[1;31mSyntaxError\u001b[0m\u001b[1;31m:\u001b[0m invalid syntax\n"
     ]
    }
   ],
   "source": [
    "#Pour mieux illustrer l’utilité des boucles, nous allons chercher à calculer le PGCD de deux\n",
    "#nombres. Pour rappel, le PGCD de deux nombres est le plus grand entier divisant simultanément\n",
    "#ces deux entiers. Par exemple, le PGCD de 15 et 12 est 3 car 15 = 5 × 3 et 12 = 4 × 3. Pour le\n",
    "#calculer, nous allons utiliser l’algorithme d’Euclide. Celui-ci repose sur le principe suivant :\n",
    "#— Le PGCD de 0 et d’un entier a est l’entier a\n",
    "#— Le PGCD de deux entiers a et b est égal au PGCD de b et de a mod b, c’est à dire\n",
    "#PGCD(a, b) = PGCD(b, a mod b)\n",
    "#mod représente l’opération modulo de Python, c’est à dire %. Cette méthode fonctionne car a\n",
    "#mod b est strictement plus petit que a et reste positif. Ainsi, en répétant la deuxième étape un\n",
    "#certain nombre de fois, nous allons pouvoir nous ramener à la première étape et obtenir notre\n",
    "#PGCD.\n",
    "#Facile ? Vous pouvez-essayer mais vous allez avoir un petit problème : combien de fois faut-il\n",
    "#exécuter la deuxième étape ? Eh bien, autant de fois qu’il le faut. Le nombre d’étapes dépend\n",
    "#de a et b, et puis si je vous avais dit 50 étapes, vous auriez fait 50 copier-coller de la deuxième\n",
    "#étape ? Nous allons donc utiliser une boucle pour effectuer le travail.\n",
    "#Une boucle while, qui signifie « tant que » en anglais, permet d’exécuter un bloc d’instructions\n",
    "#tant qu’un certain prédicat est vérifié. Voyons comment utiliser cette fameuse boucle en Python.\n",
    "from Math import.math.*                                                                               ()\n",
    "def calcule(a,b):\n",
    "    return pgcd(a,b)\n",
    "    a=int(input(\"Donnez moi la première valeur pour calculer leur pgcd :\"))\n",
    "    b=int(input(\"Donnez moi la deuxieme valeur pour calculer le pgcd :\"))\n",
    "    if b<a and b>0:\n",
    "        \n",
    "        \n",
    "        \n",
    "        \n",
    "        \n",
    "    "
   ]
  },
  {
   "cell_type": "code",
   "execution_count": 2,
   "metadata": {},
   "outputs": [
    {
     "ename": "SyntaxError",
     "evalue": "invalid syntax (<ipython-input-2-eefb97bb4c22>, line 27)",
     "output_type": "error",
     "traceback": [
      "\u001b[1;36m  File \u001b[1;32m\"<ipython-input-2-eefb97bb4c22>\"\u001b[1;36m, line \u001b[1;32m27\u001b[0m\n\u001b[1;33m    if(b%d=0):\u001b[0m\n\u001b[1;37m          ^\u001b[0m\n\u001b[1;31mSyntaxError\u001b[0m\u001b[1;31m:\u001b[0m invalid syntax\n"
     ]
    }
   ],
   "source": [
    "#Pour mieux illustrer l’utilité des boucles, nous allons chercher à calculer le PGCD de deux\n",
    "#nombres. Pour rappel, le PGCD de deux nombres est le plus grand entier divisant simultanément\n",
    "#ces deux entiers. Par exemple, le PGCD de 15 et 12 est 3 car 15 = 5 × 3 et 12 = 4 × 3. Pour le\n",
    "#calculer, nous allons utiliser l’algorithme d’Euclide. Celui-ci repose sur le principe suivant :\n",
    "#— Le PGCD de 0 et d’un entier a est l’entier a\n",
    "#— Le PGCD de deux entiers a et b est égal au PGCD de b et de a mod b, c’est à dire\n",
    "#PGCD(a, b) = PGCD(b, a mod b)\n",
    "#mod représente l’opération modulo de Python, c’est à dire %. Cette méthode fonctionne car a\n",
    "#mod b est strictement plus petit que a et reste positif. Ainsi, en répétant la deuxième étape un\n",
    "#certain nombre de fois, nous allons pouvoir nous ramener à la première étape et obtenir notre\n",
    "#PGCD.\n",
    "#Facile ? Vous pouvez-essayer mais vous allez avoir un petit problème : combien de fois faut-il\n",
    "#exécuter la deuxième étape ? Eh bien, autant de fois qu’il le faut. Le nombre d’étapes dépend\n",
    "#de a et b, et puis si je vous avais dit 50 étapes, vous auriez fait 50 copier-coller de la deuxième\n",
    "#étape ? Nous allons donc utiliser une boucle pour effectuer le travail.\n",
    "#Une boucle while, qui signifie « tant que » en anglais, permet d’exécuter un bloc d’instructions\n",
    "#tant qu’un certain prédicat est vérifié. Voyons comment utiliser cette fameuse boucle en Python. \n",
    "def calcule(a,b):\n",
    "    return pgcd(a,b)\n",
    "    a=int(input(\"Donnez moi la première valeur pour calculer leur pgcd :\"))\n",
    "    b=int(input(\"Donnez moi la deuxieme valeur pour calculer le pgcd :\"))\n",
    "    if b<a and b>0:\n",
    "        d= a%b\n",
    "        i=0\n",
    "        pgcd(0,a)=a\n",
    "        while i<50:\n",
    "            if(b%d=0):\n",
    "                pgcd(a,b) =pgcd(b,d)=d\n",
    "                print(pgcd(a,b))\n",
    "            elif b%d!=d:\n",
    "                c=b%d\n",
    "                print(c)\n",
    "    else:\n",
    "        print(\"Le deuxieme nombre doit ètre plus pétite que la premier\")"
   ]
  },
  {
   "cell_type": "code",
   "execution_count": null,
   "metadata": {},
   "outputs": [],
   "source": []
  }
 ],
 "metadata": {
  "kernelspec": {
   "display_name": "Python 3",
   "language": "python",
   "name": "python3"
  },
  "language_info": {
   "codemirror_mode": {
    "name": "ipython",
    "version": 3
   },
   "file_extension": ".py",
   "mimetype": "text/x-python",
   "name": "python",
   "nbconvert_exporter": "python",
   "pygments_lexer": "ipython3",
   "version": "3.8.5"
  }
 },
 "nbformat": 4,
 "nbformat_minor": 4
}
